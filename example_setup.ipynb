{
 "cells": [
  {
   "cell_type": "code",
   "execution_count": 1,
   "metadata": {},
   "outputs": [
    {
     "name": "stdout",
     "output_type": "stream",
     "text": [
      "Requirement already satisfied: wheel in /home/omarf/.conda/envs/test/lib/python3.11/site-packages (0.40.0)\n",
      "running bdist_wheel\n",
      "running build\n",
      "/home/omarf/.conda/envs/test/lib/python3.11/site-packages/setuptools/_distutils/cmd.py:66: SetuptoolsDeprecationWarning: setup.py install is deprecated.\n",
      "!!\n",
      "\n",
      "        ********************************************************************************\n",
      "        Please avoid running ``setup.py`` directly.\n",
      "        Instead, use pypa/build, pypa/installer, pypa/build or\n",
      "        other standards-based tools.\n",
      "\n",
      "        See https://blog.ganssle.io/articles/2021/10/setup-py-deprecated.html for details.\n",
      "        ********************************************************************************\n",
      "\n",
      "!!\n",
      "  self.initialize_options()\n",
      "installing to build/bdist.linux-x86_64/wheel\n",
      "running install\n",
      "running install_egg_info\n",
      "running egg_info\n",
      "creating jupyter_run_code.egg-info\n",
      "writing jupyter_run_code.egg-info/PKG-INFO\n",
      "writing dependency_links to jupyter_run_code.egg-info/dependency_links.txt\n",
      "writing requirements to jupyter_run_code.egg-info/requires.txt\n",
      "writing top-level names to jupyter_run_code.egg-info/top_level.txt\n",
      "writing manifest file 'jupyter_run_code.egg-info/SOURCES.txt'\n",
      "reading manifest file 'jupyter_run_code.egg-info/SOURCES.txt'\n",
      "writing manifest file 'jupyter_run_code.egg-info/SOURCES.txt'\n",
      "Copying jupyter_run_code.egg-info to build/bdist.linux-x86_64/wheel/jupyter_run_code-0.1-py3.11.egg-info\n",
      "running install_scripts\n",
      "creating build/bdist.linux-x86_64/wheel/jupyter_run_code-0.1.dist-info/WHEEL\n",
      "creating 'dist/jupyter_run_code-0.1-py3-none-any.whl' and adding 'build/bdist.linux-x86_64/wheel' to it\n",
      "adding 'jupyter_run_code-0.1.dist-info/METADATA'\n",
      "adding 'jupyter_run_code-0.1.dist-info/WHEEL'\n",
      "adding 'jupyter_run_code-0.1.dist-info/top_level.txt'\n",
      "adding 'jupyter_run_code-0.1.dist-info/RECORD'\n",
      "removing build/bdist.linux-x86_64/wheel\n",
      "running bdist\n",
      "running bdist_dumb\n",
      "/home/omarf/.conda/envs/test/lib/python3.11/site-packages/setuptools/_distutils/dist.py:947: SetuptoolsDeprecationWarning: setup.py install is deprecated.\n",
      "!!\n",
      "\n",
      "        ********************************************************************************\n",
      "        Please avoid running ``setup.py`` directly.\n",
      "        Instead, use pypa/build, pypa/installer, pypa/build or\n",
      "        other standards-based tools.\n",
      "\n",
      "        See https://blog.ganssle.io/articles/2021/10/setup-py-deprecated.html for details.\n",
      "        ********************************************************************************\n",
      "\n",
      "!!\n",
      "  command.initialize_options()\n",
      "installing to build/bdist.linux-x86_64/dumb\n",
      "running install\n",
      "running install_egg_info\n",
      "Copying jupyter_run_code.egg-info to build/bdist.linux-x86_64/wheel/jupyter_run_code-0.1-py3.11.egg-info\n",
      "running install_scripts\n",
      "error: [Errno 2] No such file or directory: 'build/bdist.linux-x86_64/dumb'\n"
     ]
    }
   ],
   "source": [
    "! pip install wheel\n",
    "! python setup.py bdist_wheel bdist\n",
    "! pip install ."
   ]
  }
 ],
 "metadata": {
  "kernelspec": {
   "display_name": "test",
   "language": "python",
   "name": "python3"
  },
  "language_info": {
   "codemirror_mode": {
    "name": "ipython",
    "version": 3
   },
   "file_extension": ".py",
   "mimetype": "text/x-python",
   "name": "python",
   "nbconvert_exporter": "python",
   "pygments_lexer": "ipython3",
   "version": "3.11.3"
  },
  "orig_nbformat": 4
 },
 "nbformat": 4,
 "nbformat_minor": 2
}
